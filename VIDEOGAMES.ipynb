{
 "cells": [
  {
   "cell_type": "code",
   "execution_count": 34,
   "id": "ef741faa-4ae5-453f-800d-e0e43ed2e119",
   "metadata": {},
   "outputs": [],
   "source": [
    "import pandas as pd\n",
    "import numpy as np\n",
    "import seaborn as sns\n",
    "import matplotlib.pyplot as plt"
   ]
  },
  {
   "cell_type": "code",
   "execution_count": 3,
   "id": "663dbc10-2808-4e1e-9921-3f3734ca3aa8",
   "metadata": {},
   "outputs": [],
   "source": [
    "df = pd.read_csv(\"Video Games Sales.csv\")"
   ]
  },
  {
   "cell_type": "code",
   "execution_count": 4,
   "id": "50b0b4dd-9a22-44c0-aaae-bf0cadb5efd1",
   "metadata": {},
   "outputs": [
    {
     "data": {
      "text/html": [
       "<div>\n",
       "<style scoped>\n",
       "    .dataframe tbody tr th:only-of-type {\n",
       "        vertical-align: middle;\n",
       "    }\n",
       "\n",
       "    .dataframe tbody tr th {\n",
       "        vertical-align: top;\n",
       "    }\n",
       "\n",
       "    .dataframe thead th {\n",
       "        text-align: right;\n",
       "    }\n",
       "</style>\n",
       "<table border=\"1\" class=\"dataframe\">\n",
       "  <thead>\n",
       "    <tr style=\"text-align: right;\">\n",
       "      <th></th>\n",
       "      <th>index</th>\n",
       "      <th>Rank</th>\n",
       "      <th>Game Title</th>\n",
       "      <th>Platform</th>\n",
       "      <th>Year</th>\n",
       "      <th>Genre</th>\n",
       "      <th>Publisher</th>\n",
       "      <th>North America</th>\n",
       "      <th>Europe</th>\n",
       "      <th>Japan</th>\n",
       "      <th>Rest of World</th>\n",
       "      <th>Global</th>\n",
       "      <th>Review</th>\n",
       "    </tr>\n",
       "  </thead>\n",
       "  <tbody>\n",
       "    <tr>\n",
       "      <th>0</th>\n",
       "      <td>0</td>\n",
       "      <td>1</td>\n",
       "      <td>Wii Sports</td>\n",
       "      <td>Wii</td>\n",
       "      <td>2006.0</td>\n",
       "      <td>Sports</td>\n",
       "      <td>Nintendo</td>\n",
       "      <td>40.43</td>\n",
       "      <td>28.39</td>\n",
       "      <td>3.77</td>\n",
       "      <td>8.54</td>\n",
       "      <td>81.12</td>\n",
       "      <td>76.28</td>\n",
       "    </tr>\n",
       "    <tr>\n",
       "      <th>1</th>\n",
       "      <td>1</td>\n",
       "      <td>2</td>\n",
       "      <td>Super Mario Bros.</td>\n",
       "      <td>NES</td>\n",
       "      <td>1985.0</td>\n",
       "      <td>Platform</td>\n",
       "      <td>Nintendo</td>\n",
       "      <td>29.08</td>\n",
       "      <td>3.58</td>\n",
       "      <td>6.81</td>\n",
       "      <td>0.77</td>\n",
       "      <td>40.24</td>\n",
       "      <td>91.00</td>\n",
       "    </tr>\n",
       "    <tr>\n",
       "      <th>2</th>\n",
       "      <td>2</td>\n",
       "      <td>3</td>\n",
       "      <td>Mario Kart Wii</td>\n",
       "      <td>Wii</td>\n",
       "      <td>2008.0</td>\n",
       "      <td>Racing</td>\n",
       "      <td>Nintendo</td>\n",
       "      <td>14.50</td>\n",
       "      <td>12.22</td>\n",
       "      <td>3.63</td>\n",
       "      <td>3.21</td>\n",
       "      <td>33.55</td>\n",
       "      <td>82.07</td>\n",
       "    </tr>\n",
       "    <tr>\n",
       "      <th>3</th>\n",
       "      <td>3</td>\n",
       "      <td>4</td>\n",
       "      <td>Wii Sports Resort</td>\n",
       "      <td>Wii</td>\n",
       "      <td>2009.0</td>\n",
       "      <td>Sports</td>\n",
       "      <td>Nintendo</td>\n",
       "      <td>14.82</td>\n",
       "      <td>10.51</td>\n",
       "      <td>3.18</td>\n",
       "      <td>3.01</td>\n",
       "      <td>31.52</td>\n",
       "      <td>82.65</td>\n",
       "    </tr>\n",
       "    <tr>\n",
       "      <th>4</th>\n",
       "      <td>4</td>\n",
       "      <td>5</td>\n",
       "      <td>Tetris</td>\n",
       "      <td>GB</td>\n",
       "      <td>1989.0</td>\n",
       "      <td>Puzzle</td>\n",
       "      <td>Nintendo</td>\n",
       "      <td>23.20</td>\n",
       "      <td>2.26</td>\n",
       "      <td>4.22</td>\n",
       "      <td>0.58</td>\n",
       "      <td>30.26</td>\n",
       "      <td>88.00</td>\n",
       "    </tr>\n",
       "  </tbody>\n",
       "</table>\n",
       "</div>"
      ],
      "text/plain": [
       "   index  Rank         Game Title Platform    Year     Genre Publisher  \\\n",
       "0      0     1         Wii Sports      Wii  2006.0    Sports  Nintendo   \n",
       "1      1     2  Super Mario Bros.      NES  1985.0  Platform  Nintendo   \n",
       "2      2     3     Mario Kart Wii      Wii  2008.0    Racing  Nintendo   \n",
       "3      3     4  Wii Sports Resort      Wii  2009.0    Sports  Nintendo   \n",
       "4      4     5             Tetris       GB  1989.0    Puzzle  Nintendo   \n",
       "\n",
       "   North America  Europe  Japan  Rest of World  Global  Review  \n",
       "0          40.43   28.39   3.77           8.54   81.12   76.28  \n",
       "1          29.08    3.58   6.81           0.77   40.24   91.00  \n",
       "2          14.50   12.22   3.63           3.21   33.55   82.07  \n",
       "3          14.82   10.51   3.18           3.01   31.52   82.65  \n",
       "4          23.20    2.26   4.22           0.58   30.26   88.00  "
      ]
     },
     "execution_count": 4,
     "metadata": {},
     "output_type": "execute_result"
    }
   ],
   "source": [
    "df.head()"
   ]
  },
  {
   "cell_type": "code",
   "execution_count": 5,
   "id": "2eda2d7f-1dc3-45ff-ab27-beb6bdaa43bf",
   "metadata": {},
   "outputs": [
    {
     "name": "stdout",
     "output_type": "stream",
     "text": [
      "<class 'pandas.core.frame.DataFrame'>\n",
      "RangeIndex: 1907 entries, 0 to 1906\n",
      "Data columns (total 13 columns):\n",
      " #   Column         Non-Null Count  Dtype  \n",
      "---  ------         --------------  -----  \n",
      " 0   index          1907 non-null   int64  \n",
      " 1   Rank           1907 non-null   int64  \n",
      " 2   Game Title     1907 non-null   object \n",
      " 3   Platform       1907 non-null   object \n",
      " 4   Year           1878 non-null   float64\n",
      " 5   Genre          1907 non-null   object \n",
      " 6   Publisher      1905 non-null   object \n",
      " 7   North America  1907 non-null   float64\n",
      " 8   Europe         1907 non-null   float64\n",
      " 9   Japan          1907 non-null   float64\n",
      " 10  Rest of World  1907 non-null   float64\n",
      " 11  Global         1907 non-null   float64\n",
      " 12  Review         1907 non-null   float64\n",
      "dtypes: float64(7), int64(2), object(4)\n",
      "memory usage: 193.8+ KB\n"
     ]
    }
   ],
   "source": [
    "df.info()"
   ]
  },
  {
   "cell_type": "code",
   "execution_count": 7,
   "id": "18967a46-1390-4ac9-8f59-f3b5df1c74cb",
   "metadata": {},
   "outputs": [],
   "source": [
    "df.dropna(inplace=True)"
   ]
  },
  {
   "cell_type": "code",
   "execution_count": 9,
   "id": "80c1d180-1712-429e-8f76-828876bee795",
   "metadata": {},
   "outputs": [],
   "source": [
    "df['Year'] = df['Year'].astype(int)"
   ]
  },
  {
   "cell_type": "code",
   "execution_count": 10,
   "id": "88afd1c3-4a86-4c3e-b96c-9397544f1374",
   "metadata": {},
   "outputs": [],
   "source": [
    "summary_stats = df.describe()\n",
    "genre_counts = df['Genre'].value_counts()\n"
   ]
  },
  {
   "cell_type": "code",
   "execution_count": 17,
   "id": "2529b938-7eec-4630-be95-d5274945c085",
   "metadata": {},
   "outputs": [
    {
     "data": {
      "text/plain": [
       "(1878, 13)"
      ]
     },
     "execution_count": 17,
     "metadata": {},
     "output_type": "execute_result"
    }
   ],
   "source": [
    "df.shape"
   ]
  },
  {
   "cell_type": "code",
   "execution_count": 19,
   "id": "bf0d1c18-0932-49cb-805e-49865cb393f7",
   "metadata": {},
   "outputs": [
    {
     "name": "stdout",
     "output_type": "stream",
     "text": [
      "Index(['index', 'Rank', 'Game Title', 'Platform', 'Year', 'Genre', 'Publisher',\n",
      "       'North America', 'Europe', 'Japan', 'Rest of World', 'Global',\n",
      "       'Review'],\n",
      "      dtype='object')\n"
     ]
    }
   ],
   "source": [
    "print(df.columns)"
   ]
  },
  {
   "cell_type": "code",
   "execution_count": 24,
   "id": "cff6d93f-5a9e-45f7-986e-eff46baf0598",
   "metadata": {},
   "outputs": [
    {
     "data": {
      "text/html": [
       "<div>\n",
       "<style scoped>\n",
       "    .dataframe tbody tr th:only-of-type {\n",
       "        vertical-align: middle;\n",
       "    }\n",
       "\n",
       "    .dataframe tbody tr th {\n",
       "        vertical-align: top;\n",
       "    }\n",
       "\n",
       "    .dataframe thead th {\n",
       "        text-align: right;\n",
       "    }\n",
       "</style>\n",
       "<table border=\"1\" class=\"dataframe\">\n",
       "  <thead>\n",
       "    <tr style=\"text-align: right;\">\n",
       "      <th></th>\n",
       "      <th>index</th>\n",
       "      <th>Rank</th>\n",
       "      <th>Game Title</th>\n",
       "      <th>Platform</th>\n",
       "      <th>Year</th>\n",
       "      <th>Genre</th>\n",
       "      <th>Publisher</th>\n",
       "      <th>North America</th>\n",
       "      <th>Europe</th>\n",
       "      <th>Japan</th>\n",
       "      <th>Rest of World</th>\n",
       "      <th>Global</th>\n",
       "      <th>Review</th>\n",
       "    </tr>\n",
       "  </thead>\n",
       "  <tbody>\n",
       "    <tr>\n",
       "      <th>0</th>\n",
       "      <td>0</td>\n",
       "      <td>1</td>\n",
       "      <td>Wii Sports</td>\n",
       "      <td>Wii</td>\n",
       "      <td>2006</td>\n",
       "      <td>Sports</td>\n",
       "      <td>Nintendo</td>\n",
       "      <td>40.43</td>\n",
       "      <td>28.39</td>\n",
       "      <td>3.77</td>\n",
       "      <td>8.54</td>\n",
       "      <td>81.12</td>\n",
       "      <td>76.28</td>\n",
       "    </tr>\n",
       "    <tr>\n",
       "      <th>1</th>\n",
       "      <td>1</td>\n",
       "      <td>2</td>\n",
       "      <td>Super Mario Bros.</td>\n",
       "      <td>NES</td>\n",
       "      <td>1985</td>\n",
       "      <td>Platform</td>\n",
       "      <td>Nintendo</td>\n",
       "      <td>29.08</td>\n",
       "      <td>3.58</td>\n",
       "      <td>6.81</td>\n",
       "      <td>0.77</td>\n",
       "      <td>40.24</td>\n",
       "      <td>91.00</td>\n",
       "    </tr>\n",
       "    <tr>\n",
       "      <th>2</th>\n",
       "      <td>2</td>\n",
       "      <td>3</td>\n",
       "      <td>Mario Kart Wii</td>\n",
       "      <td>Wii</td>\n",
       "      <td>2008</td>\n",
       "      <td>Racing</td>\n",
       "      <td>Nintendo</td>\n",
       "      <td>14.50</td>\n",
       "      <td>12.22</td>\n",
       "      <td>3.63</td>\n",
       "      <td>3.21</td>\n",
       "      <td>33.55</td>\n",
       "      <td>82.07</td>\n",
       "    </tr>\n",
       "    <tr>\n",
       "      <th>3</th>\n",
       "      <td>3</td>\n",
       "      <td>4</td>\n",
       "      <td>Wii Sports Resort</td>\n",
       "      <td>Wii</td>\n",
       "      <td>2009</td>\n",
       "      <td>Sports</td>\n",
       "      <td>Nintendo</td>\n",
       "      <td>14.82</td>\n",
       "      <td>10.51</td>\n",
       "      <td>3.18</td>\n",
       "      <td>3.01</td>\n",
       "      <td>31.52</td>\n",
       "      <td>82.65</td>\n",
       "    </tr>\n",
       "    <tr>\n",
       "      <th>4</th>\n",
       "      <td>4</td>\n",
       "      <td>5</td>\n",
       "      <td>Tetris</td>\n",
       "      <td>GB</td>\n",
       "      <td>1989</td>\n",
       "      <td>Puzzle</td>\n",
       "      <td>Nintendo</td>\n",
       "      <td>23.20</td>\n",
       "      <td>2.26</td>\n",
       "      <td>4.22</td>\n",
       "      <td>0.58</td>\n",
       "      <td>30.26</td>\n",
       "      <td>88.00</td>\n",
       "    </tr>\n",
       "    <tr>\n",
       "      <th>5</th>\n",
       "      <td>5</td>\n",
       "      <td>6</td>\n",
       "      <td>New Super Mario Bros.</td>\n",
       "      <td>DS</td>\n",
       "      <td>2006</td>\n",
       "      <td>Platform</td>\n",
       "      <td>Nintendo</td>\n",
       "      <td>10.85</td>\n",
       "      <td>8.87</td>\n",
       "      <td>6.48</td>\n",
       "      <td>2.88</td>\n",
       "      <td>29.08</td>\n",
       "      <td>90.00</td>\n",
       "    </tr>\n",
       "    <tr>\n",
       "      <th>6</th>\n",
       "      <td>6</td>\n",
       "      <td>7</td>\n",
       "      <td>Wii Play</td>\n",
       "      <td>Wii</td>\n",
       "      <td>2006</td>\n",
       "      <td>Misc</td>\n",
       "      <td>Nintendo</td>\n",
       "      <td>13.83</td>\n",
       "      <td>9.11</td>\n",
       "      <td>2.93</td>\n",
       "      <td>2.84</td>\n",
       "      <td>28.71</td>\n",
       "      <td>61.64</td>\n",
       "    </tr>\n",
       "    <tr>\n",
       "      <th>7</th>\n",
       "      <td>7</td>\n",
       "      <td>8</td>\n",
       "      <td>Duck Hunt</td>\n",
       "      <td>NES</td>\n",
       "      <td>1984</td>\n",
       "      <td>Shooter</td>\n",
       "      <td>Nintendo</td>\n",
       "      <td>26.93</td>\n",
       "      <td>0.63</td>\n",
       "      <td>0.28</td>\n",
       "      <td>0.47</td>\n",
       "      <td>28.31</td>\n",
       "      <td>84.00</td>\n",
       "    </tr>\n",
       "    <tr>\n",
       "      <th>8</th>\n",
       "      <td>8</td>\n",
       "      <td>9</td>\n",
       "      <td>New Super Mario Bros. Wii</td>\n",
       "      <td>Wii</td>\n",
       "      <td>2009</td>\n",
       "      <td>Platform</td>\n",
       "      <td>Nintendo</td>\n",
       "      <td>13.35</td>\n",
       "      <td>6.48</td>\n",
       "      <td>4.66</td>\n",
       "      <td>2.25</td>\n",
       "      <td>26.75</td>\n",
       "      <td>88.18</td>\n",
       "    </tr>\n",
       "    <tr>\n",
       "      <th>9</th>\n",
       "      <td>9</td>\n",
       "      <td>10</td>\n",
       "      <td>Nintendogs</td>\n",
       "      <td>DS</td>\n",
       "      <td>2005</td>\n",
       "      <td>Simulation</td>\n",
       "      <td>Nintendo</td>\n",
       "      <td>9.02</td>\n",
       "      <td>10.81</td>\n",
       "      <td>1.93</td>\n",
       "      <td>2.73</td>\n",
       "      <td>24.50</td>\n",
       "      <td>85.00</td>\n",
       "    </tr>\n",
       "  </tbody>\n",
       "</table>\n",
       "</div>"
      ],
      "text/plain": [
       "   index  Rank                 Game Title Platform  Year       Genre  \\\n",
       "0      0     1                 Wii Sports      Wii  2006      Sports   \n",
       "1      1     2          Super Mario Bros.      NES  1985    Platform   \n",
       "2      2     3             Mario Kart Wii      Wii  2008      Racing   \n",
       "3      3     4          Wii Sports Resort      Wii  2009      Sports   \n",
       "4      4     5                     Tetris       GB  1989      Puzzle   \n",
       "5      5     6      New Super Mario Bros.       DS  2006    Platform   \n",
       "6      6     7                   Wii Play      Wii  2006        Misc   \n",
       "7      7     8                  Duck Hunt      NES  1984     Shooter   \n",
       "8      8     9  New Super Mario Bros. Wii      Wii  2009    Platform   \n",
       "9      9    10                 Nintendogs       DS  2005  Simulation   \n",
       "\n",
       "  Publisher  North America  Europe  Japan  Rest of World  Global  Review  \n",
       "0  Nintendo          40.43   28.39   3.77           8.54   81.12   76.28  \n",
       "1  Nintendo          29.08    3.58   6.81           0.77   40.24   91.00  \n",
       "2  Nintendo          14.50   12.22   3.63           3.21   33.55   82.07  \n",
       "3  Nintendo          14.82   10.51   3.18           3.01   31.52   82.65  \n",
       "4  Nintendo          23.20    2.26   4.22           0.58   30.26   88.00  \n",
       "5  Nintendo          10.85    8.87   6.48           2.88   29.08   90.00  \n",
       "6  Nintendo          13.83    9.11   2.93           2.84   28.71   61.64  \n",
       "7  Nintendo          26.93    0.63   0.28           0.47   28.31   84.00  \n",
       "8  Nintendo          13.35    6.48   4.66           2.25   26.75   88.18  \n",
       "9  Nintendo           9.02   10.81   1.93           2.73   24.50   85.00  "
      ]
     },
     "metadata": {},
     "output_type": "display_data"
    }
   ],
   "source": [
    "display(df.head(10))"
   ]
  },
  {
   "cell_type": "code",
   "execution_count": 28,
   "id": "ffd8d5ed-0a86-404d-a8a3-0eb173f4f112",
   "metadata": {},
   "outputs": [
    {
     "data": {
      "text/plain": [
       "Text(0, 0.5, 'Tip')"
      ]
     },
     "execution_count": 28,
     "metadata": {},
     "output_type": "execute_result"
    },
    {
     "data": {
      "image/png": "[encoded data removed]",
      "text/plain": [
       "<Figure size 640x480 with 1 Axes>"
      ]
     },
     "metadata": {},
     "output_type": "display_data"
    }
   ],
   "source": [
    "plt.bar(df['Rank'], df['Global'])\n",
    " \n",
    "plt.title(\"Bar Chart\")\n",
    " \n",
    "# Setting the X and Y labels\n",
    "plt.xlabel('Day')\n",
    "plt.ylabel('Tip')"
   ]
  },
  {
   "cell_type": "code",
   "execution_count": 30,
   "id": "989ff2dd-eac4-4610-b172-d0cec1921adf",
   "metadata": {},
   "outputs": [
    {
     "data": {
      "image/png": "[encoded data removed]",
      "text/plain": [
       "<Figure size 640x480 with 1 Axes>"
      ]
     },
     "metadata": {},
     "output_type": "display_data"
    }
   ],
   "source": [
    "plt.hist(df['Global'])\n",
    " \n",
    "plt.title(\"Histogram\")\n",
    " \n",
    "# Adding the legends\n",
    "plt.show()"
   ]
  },
  {
   "cell_type": "code",
   "execution_count": 33,
   "id": "5ed46703-f2f8-4ff5-86bf-8fed1917aa1a",
   "metadata": {},
   "outputs": [
    {
     "data": {
      "image/png": "[encoded data removed]",
      "text/plain": [
       "<Figure size 640x480 with 1 Axes>"
      ]
     },
     "metadata": {},
     "output_type": "display_data"
    }
   ],
   "source": [
    "sns.lineplot(x=\"Game Title\", y=\"Global\", data=df) \n",
    "plt.show()"
   ]
  },
  {
   "cell_type": "code",
   "execution_count": null,
   "id": "c3fd79f1-e0fc-47f1-9ccd-012789eb480f",
   "metadata": {},
   "outputs": [],
   "source": []
  }
 ],
 "metadata": {
  "kernelspec": {
   "display_name": "Python 3 (ipykernel)",
   "language": "python",
   "name": "python3"
  },
  "language_info": {
   "codemirror_mode": {
    "name": "ipython",
    "version": 3
   },
   "file_extension": ".py",
   "mimetype": "text/x-python",
   "name": "python",
   "nbconvert_exporter": "python",
   "pygments_lexer": "ipython3",
   "version": "3.11.5"
  }
 },
 "nbformat": 4,
 "nbformat_minor": 5
}
